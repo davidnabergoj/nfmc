{
 "cells": [
  {
   "metadata": {
    "ExecuteTime": {
     "end_time": "2024-09-01T13:51:36.580369Z",
     "start_time": "2024-09-01T13:50:31.670150Z"
    }
   },
   "cell_type": "code",
   "source": [
    "import torch\n",
    "\n",
    "from nfmc import sample\n",
    "from potentials.synthetic.gaussian.diagonal import DiagonalGaussian1\n",
    "\n",
    "torch.manual_seed(0)\n",
    "\n",
    "target = DiagonalGaussian1(event_shape=(10,))\n",
    "out_hmc = sample(target, strategy='hmc', warmup=True)\n",
    "out_jump_hmc = sample(target, strategy='jump_hmc', warmup=True)\n",
    "out_neutra_hmc = sample(target, strategy='neutra_hmc', warmup=True)\n",
    "out_imh = sample(target, strategy='imh', warmup=True)"
   ],
   "id": "2486b82dd83613a",
   "outputs": [
    {
     "name": "stderr",
     "output_type": "stream",
     "text": [
      "HMC: 100%|██████████| 100/100 [00:01<00:00, 76.98it/s, acc-rate: 0.66, kcalls/s: 343.77, kgrads/s: 327.40, divergences: 0 | log step: 0.47, leapfrogs: 20, mass norm: 10.19 | DA error: -0.76]\n",
      "HMC: 100%|██████████| 100/100 [00:01<00:00, 78.52it/s, acc-rate: 0.73, kcalls/s: 348.06, kgrads/s: 331.49, divergences: 0 | log step: 0.47, leapfrogs: 20, mass norm: 10.19 | DA error: 0.00]\n",
      "HMC: 100%|██████████| 100/100 [00:01<00:00, 78.57it/s, acc-rate: 0.67, kcalls/s: 348.62, kgrads/s: 332.02, divergences: 0 | log step: 0.60, leapfrogs: 20, mass norm: 10.24 | DA error: -1.41]\n",
      "Fitting NF:  17%|█▋        | 84/500 [00:23<01:54,  3.64it/s, Training loss (batch): 2.9332, Validation loss: 2.9171 [best: 2.9140 @ 33]]\n",
      "Jump MCMC (jumping): 100%|██████████| 100/100 [00:06<00:00, 14.32it/s, MCMC acc-rate: 0.49, Jump acc-rate: 0.00, kcalls/s: 315.33, kgrads/s: 297.48, divergences: 0]\n",
      "Fitting with SVI:  47%|████▋     | 236/500 [00:01<00:01, 178.94it/s, Loss: 25.1466 [best: 22.7728 @ 185], divergences: 0, flow log_prob: 1.52, target log_prob: -26.27] \n",
      "HMC: 100%|██████████| 100/100 [00:12<00:00,  8.02it/s, acc-rate: 0.66, kcalls/s: 34.07, kgrads/s: 32.45, divergences: 0 | log step: -0.30, leapfrogs: 20, mass norm: 1.06 | DA error: -0.92]\n",
      "HMC: 100%|██████████| 100/100 [00:12<00:00,  8.08it/s, acc-rate: 0.66, kcalls/s: 34.31, kgrads/s: 32.68, divergences: 0 | log step: -0.30, leapfrogs: 20, mass norm: 1.06 | DA error: 0.00]\n",
      "Fitting with SVI:  32%|███▏      | 159/500 [00:00<00:02, 160.86it/s, Loss: 24.6494 [best: 22.8771 @ 108], divergences: 0, flow log_prob: 3.62, target log_prob: -26.98] \n",
      "Adaptive IMH: 100%|██████████| 100/100 [00:01<00:00, 67.40it/s, acc-rate: 0.73, kcalls/s: 14.23, kgrads/s: 0.00, divergences: 0 | adaptation probability: 0.99]\n"
     ]
    }
   ],
   "execution_count": 1
  },
  {
   "metadata": {
    "ExecuteTime": {
     "end_time": "2024-09-01T13:52:07.726445Z",
     "start_time": "2024-09-01T13:52:07.712928Z"
    }
   },
   "cell_type": "code",
   "source": [
    "print(float((out_hmc.statistics.running_first_moment - target.mean).abs().max()))\n",
    "print(float((out_hmc.statistics.running_second_moment - target.second_moment).abs().max()))"
   ],
   "id": "8126061276485459",
   "outputs": [
    {
     "name": "stdout",
     "output_type": "stream",
     "text": [
      "0.24987053871154785\n",
      "2.6290512084960938\n"
     ]
    }
   ],
   "execution_count": 6
  },
  {
   "metadata": {
    "ExecuteTime": {
     "end_time": "2024-09-01T13:52:15.462639Z",
     "start_time": "2024-09-01T13:52:15.449116Z"
    }
   },
   "cell_type": "code",
   "source": [
    "print(float((out_jump_hmc.statistics.running_first_moment - target.mean).abs().max()))\n",
    "print(float((out_jump_hmc.statistics.running_second_moment - target.second_moment).abs().max()))"
   ],
   "id": "a689bd81af823878",
   "outputs": [
    {
     "name": "stdout",
     "output_type": "stream",
     "text": [
      "0.6476606726646423\n",
      "3.0472373962402344\n"
     ]
    }
   ],
   "execution_count": 7
  },
  {
   "metadata": {
    "ExecuteTime": {
     "end_time": "2024-09-01T13:52:23.180792Z",
     "start_time": "2024-09-01T13:52:23.166817Z"
    }
   },
   "cell_type": "code",
   "source": [
    "print(float((out_neutra_hmc.statistics.running_first_moment - target.mean).abs().max()))\n",
    "print(float((out_neutra_hmc.statistics.running_second_moment - target.second_moment).abs().max()))"
   ],
   "id": "a55b06ca41b293c3",
   "outputs": [
    {
     "name": "stdout",
     "output_type": "stream",
     "text": [
      "0.5476900339126587\n",
      "6.174140930175781\n"
     ]
    }
   ],
   "execution_count": 8
  },
  {
   "metadata": {
    "ExecuteTime": {
     "end_time": "2024-09-01T13:52:30.917946Z",
     "start_time": "2024-09-01T13:52:30.904650Z"
    }
   },
   "cell_type": "code",
   "source": [
    "print(float((out_imh.statistics.running_first_moment - target.mean).abs().max()))\n",
    "print(float((out_imh.statistics.running_second_moment - target.second_moment).abs().max()))"
   ],
   "id": "7ab3814c16787067",
   "outputs": [
    {
     "name": "stdout",
     "output_type": "stream",
     "text": [
      "0.20336076617240906\n",
      "2.4663238525390625\n"
     ]
    }
   ],
   "execution_count": 9
  }
 ],
 "metadata": {
  "kernelspec": {
   "display_name": "Python 3",
   "language": "python",
   "name": "python3"
  },
  "language_info": {
   "codemirror_mode": {
    "name": "ipython",
    "version": 2
   },
   "file_extension": ".py",
   "mimetype": "text/x-python",
   "name": "python",
   "nbconvert_exporter": "python",
   "pygments_lexer": "ipython2",
   "version": "2.7.6"
  }
 },
 "nbformat": 4,
 "nbformat_minor": 5
}
