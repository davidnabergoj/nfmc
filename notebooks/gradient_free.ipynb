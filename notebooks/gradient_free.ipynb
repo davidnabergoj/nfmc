{
 "cells": [
  {
   "cell_type": "code",
   "id": "initial_id",
   "metadata": {
    "collapsed": true,
    "ExecuteTime": {
     "end_time": "2024-09-13T15:25:31.854766Z",
     "start_time": "2024-09-13T15:25:29.754344Z"
    }
   },
   "source": [
    "import torch\n",
    "from potentials.synthetic.gaussian.unit import StandardGaussian\n",
    "from nfmc import sample\n",
    "\n",
    "torch.manual_seed(0)\n",
    "target = StandardGaussian()\n",
    "\n",
    "n_iterations = 50"
   ],
   "outputs": [],
   "execution_count": 1
  },
  {
   "metadata": {
    "ExecuteTime": {
     "end_time": "2024-09-13T15:25:32.093326Z",
     "start_time": "2024-09-13T15:25:31.862791Z"
    }
   },
   "cell_type": "code",
   "source": [
    "torch.manual_seed(0)\n",
    "out_mh = sample(target, strategy='mh', show_progress=True, warmup=True, n_iterations=n_iterations)"
   ],
   "id": "ec26c353577a1fbc",
   "outputs": [
    {
     "name": "stderr",
     "output_type": "stream",
     "text": [
      "MH (tuning): 100%|██████████| 100/100 [00:00<00:00, 744.08it/s, acc-rate: 0.00, kcalls/s: 232.01, kgrads/s: 0.00, divergences: 0 | log step: -106.04, mass norm: 1.00]\n",
      "MH: 100%|██████████| 50/50 [00:00<00:00, 713.36it/s, acc-rate: 0.00, kcalls/s: 255.84, kgrads/s: 0.00, divergences: 0 | log step: -106.04, mass norm: 1.00]\n"
     ]
    }
   ],
   "execution_count": 2
  },
  {
   "metadata": {
    "ExecuteTime": {
     "end_time": "2024-09-13T15:25:34.589856Z",
     "start_time": "2024-09-13T15:25:32.234692Z"
    }
   },
   "cell_type": "code",
   "source": [
    "torch.manual_seed(0)\n",
    "out_neutra_mh = sample(target, strategy='neutra_mh', show_progress=True, warmup=True, n_iterations=n_iterations)"
   ],
   "id": "260d88033f59c49",
   "outputs": [
    {
     "name": "stderr",
     "output_type": "stream",
     "text": [
      "Fitting with SVI:  40%|████      | 200/500 [00:01<00:01, 173.43it/s, Loss: 246.8638 [best: 179.4734 @ 149], divergences: 0, flow log_prob: -158.47, target log_prob: -64.17]\n",
      "MH (tuning): 100%|██████████| 100/100 [00:00<00:00, 142.92it/s, acc-rate: 0.00, kcalls/s: 32.05, kgrads/s: 0.00, divergences: 0 | log step: -106.04, mass norm: 1.00]\n",
      "MH: 100%|██████████| 50/50 [00:00<00:00, 107.93it/s, acc-rate: 0.00, kcalls/s: 23.52, kgrads/s: 0.00, divergences: 0 | log step: -106.04, mass norm: 1.00]\n"
     ]
    }
   ],
   "execution_count": 3
  },
  {
   "metadata": {
    "ExecuteTime": {
     "end_time": "2024-09-13T15:26:08.475462Z",
     "start_time": "2024-09-13T15:25:34.703001Z"
    }
   },
   "cell_type": "code",
   "source": [
    "torch.manual_seed(0)\n",
    "out_jump_mh = sample(target, strategy='jump_mh', show_progress=True, warmup=True, n_iterations=n_iterations)"
   ],
   "id": "8c64c5b475159145",
   "outputs": [
    {
     "name": "stderr",
     "output_type": "stream",
     "text": [
      "MH (tuning): 100%|██████████| 100/100 [00:01<00:00, 98.38it/s, acc-rate: 0.00, kcalls/s: 22.99, kgrads/s: 0.00, divergences: 0 | log step: -106.04, mass norm: 1.00]\n",
      "Fitting NF:  17%|█▋        | 84/500 [00:29<02:24,  2.88it/s, Training loss (batch): 1.3934, Validation loss: 1.4130 [best: 1.4091 @ 33]]\n",
      "Jump MCMC: 100%|██████████| 50/50 [00:03<00:00, 14.06it/s, MCMC acc-rate: 0.00, Jump acc-rate: 0.77, kcalls/s: 325.57, kgrads/s: 0.00, divergences: 0]\n"
     ]
    }
   ],
   "execution_count": 4
  },
  {
   "metadata": {
    "ExecuteTime": {
     "end_time": "2024-09-13T15:26:13.310464Z",
     "start_time": "2024-09-13T15:26:11.640891Z"
    }
   },
   "cell_type": "code",
   "source": [
    "torch.manual_seed(0)\n",
    "out_fixed_imh = sample(target, strategy='fixed_imh', show_progress=True, warmup=True, n_iterations=n_iterations)"
   ],
   "id": "c29b27be658194fd",
   "outputs": [
    {
     "name": "stderr",
     "output_type": "stream",
     "text": [
      "Fitting with SVI:  40%|████      | 200/500 [00:01<00:01, 161.38it/s, Loss: 246.8638 [best: 179.4734 @ 149], divergences: 0, flow log_prob: -158.47, target log_prob: -64.17]\n",
      "Fixed IMH: 100%|██████████| 50/50 [00:00<00:00, 122.03it/s, acc-rate: 0.11, kcalls/s: 26.47, kgrads/s: 0.00, divergences: 0]\n"
     ]
    }
   ],
   "execution_count": 5
  },
  {
   "metadata": {
    "ExecuteTime": {
     "end_time": "2024-09-13T15:26:18.504949Z",
     "start_time": "2024-09-13T15:26:16.416702Z"
    }
   },
   "cell_type": "code",
   "source": [
    "torch.manual_seed(0)\n",
    "out_adaptive_imh = sample(target, strategy='adaptive_imh', show_progress=True, warmup=True, n_iterations=n_iterations)"
   ],
   "id": "c9478710f4a1f096",
   "outputs": [
    {
     "name": "stderr",
     "output_type": "stream",
     "text": [
      "Fitting with SVI:  40%|████      | 200/500 [00:01<00:01, 166.80it/s, Loss: 246.8638 [best: 179.4734 @ 149], divergences: 0, flow log_prob: -158.47, target log_prob: -64.17]\n",
      "Adaptive IMH: 100%|██████████| 50/50 [00:00<00:00, 57.72it/s, acc-rate: 0.18, kcalls/s: 12.13, kgrads/s: 0.00, divergences: 0]\n"
     ]
    }
   ],
   "execution_count": 6
  }
 ],
 "metadata": {
  "kernelspec": {
   "display_name": "Python 3",
   "language": "python",
   "name": "python3"
  },
  "language_info": {
   "codemirror_mode": {
    "name": "ipython",
    "version": 2
   },
   "file_extension": ".py",
   "mimetype": "text/x-python",
   "name": "python",
   "nbconvert_exporter": "python",
   "pygments_lexer": "ipython2",
   "version": "2.7.6"
  }
 },
 "nbformat": 4,
 "nbformat_minor": 5
}
